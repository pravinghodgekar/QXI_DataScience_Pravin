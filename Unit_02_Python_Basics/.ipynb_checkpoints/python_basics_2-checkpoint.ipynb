{
 "cells": [
  {
   "cell_type": "markdown",
   "metadata": {},
   "source": [
    "### Define variables"
   ]
  },
  {
   "cell_type": "code",
   "execution_count": 119,
   "metadata": {
    "scrolled": false
   },
   "outputs": [
    {
     "name": "stdout",
     "output_type": "stream",
     "text": [
      "3\n",
      "3\n",
      "3\n",
      "3 3 3\n"
     ]
    }
   ],
   "source": [
    "a = b = c = 3\n",
    "print(a)\n",
    "print(b)\n",
    "print(c)\n",
    "print(a,b,c)"
   ]
  },
  {
   "cell_type": "code",
   "execution_count": 193,
   "metadata": {
    "scrolled": true
   },
   "outputs": [
    {
     "name": "stdout",
     "output_type": "stream",
     "text": [
      "Hello Hello\n",
      "HelloHelloHello "
     ]
    }
   ],
   "source": [
    "k = \"Hello\"\n",
    "j = k \n",
    "n = k * 3\n",
    "print(k,j)\n",
    "print(n)"
   ]
  },
  {
   "cell_type": "markdown",
   "metadata": {},
   "source": [
    "### String concatenation"
   ]
  },
  {
   "cell_type": "code",
   "execution_count": 97,
   "metadata": {},
   "outputs": [
    {
     "name": "stdout",
     "output_type": "stream",
     "text": [
      "HelloGood Morning\n",
      "Hello,Good Morning\n"
     ]
    }
   ],
   "source": [
    "p = 'Good Morning'\n",
    "print(k+p)\n",
    "print(k + ',' + p)"
   ]
  },
  {
   "cell_type": "code",
   "execution_count": 95,
   "metadata": {
    "scrolled": true
   },
   "outputs": [
    {
     "name": "stdout",
     "output_type": "stream",
     "text": [
      "Hello,Good Morning\n"
     ]
    }
   ],
   "source": [
    "print(k,end=',')\n",
    "print(p)"
   ]
  },
  {
   "cell_type": "code",
   "execution_count": 124,
   "metadata": {
    "scrolled": true
   },
   "outputs": [
    {
     "name": "stdout",
     "output_type": "stream",
     "text": [
      "Hello,Good Morning\n"
     ]
    }
   ],
   "source": [
    "print(k,p,sep=',')"
   ]
  },
  {
   "cell_type": "code",
   "execution_count": 98,
   "metadata": {
    "scrolled": true
   },
   "outputs": [
    {
     "name": "stdout",
     "output_type": "stream",
     "text": [
      "Hello,Good Morning\n"
     ]
    }
   ],
   "source": [
    "print((\"{},{}\".format(k,p)))"
   ]
  },
  {
   "cell_type": "markdown",
   "metadata": {},
   "source": [
    "### Add new line in string"
   ]
  },
  {
   "cell_type": "code",
   "execution_count": 77,
   "metadata": {
    "scrolled": true
   },
   "outputs": [
    {
     "name": "stdout",
     "output_type": "stream",
     "text": [
      "Geeks\n",
      "For\n",
      "Life\n"
     ]
    }
   ],
   "source": [
    "String1 = 'Geeks\\nFor\\nLife'\n",
    "print(String1)"
   ]
  },
  {
   "cell_type": "markdown",
   "metadata": {},
   "source": [
    "### Various string functions"
   ]
  },
  {
   "cell_type": "code",
   "execution_count": 108,
   "metadata": {},
   "outputs": [
    {
     "name": "stdout",
     "output_type": "stream",
     "text": [
      "Hello,Good Morning\n",
      "H\n",
      "Hello\n",
      "g\n",
      "Mornin\n",
      "Morning\n"
     ]
    }
   ],
   "source": [
    "# access string characters\n",
    "string1 = (\"{},{}\".format(k,p))\n",
    "print(string1)\n",
    "print(string1[0])\n",
    "print(string1[0:5])\n",
    "print(string1[-1])\n",
    "print(string1[-7:-1])\n",
    "print(string1[-7:len(string1)])"
   ]
  },
  {
   "cell_type": "code",
   "execution_count": 116,
   "metadata": {
    "scrolled": false
   },
   "outputs": [
    {
     "name": "stdout",
     "output_type": "stream",
     "text": [
      "18\n",
      "hello,good morning\n",
      "HELLO,GOOD MORNING\n",
      "Hello,Good Afternoon\n"
     ]
    }
   ],
   "source": [
    "# find length of string\n",
    "print(len(string1))\n",
    "\n",
    "# convert string in lower case\n",
    "print(string1.lower())\n",
    "\n",
    "# convert string in upper case\n",
    "print(string1.upper())\n",
    "\n",
    "# replace string characters\n",
    "print(string1.replace('Morning','Afternoon'))"
   ]
  },
  {
   "cell_type": "code",
   "execution_count": 118,
   "metadata": {
    "scrolled": true
   },
   "outputs": [
    {
     "name": "stdout",
     "output_type": "stream",
     "text": [
      "['Hello', 'Good Morning']\n",
      "<class 'list'>\n"
     ]
    }
   ],
   "source": [
    "# split string characters\n",
    "s = string1.split(',')\n",
    "print(s)\n",
    "print(type(s))"
   ]
  },
  {
   "cell_type": "code",
   "execution_count": 250,
   "metadata": {},
   "outputs": [
    {
     "name": "stdout",
     "output_type": "stream",
     "text": [
      "Good morning\n",
      "Good afternoon\n"
     ]
    }
   ],
   "source": [
    "# String Replace\n",
    "str_1 = \"Good morning\"\n",
    "print(str_1)\n",
    "print(str_1.replace('morning' ,'afternoon'))"
   ]
  },
  {
   "cell_type": "code",
   "execution_count": 256,
   "metadata": {},
   "outputs": [
    {
     "name": "stdout",
     "output_type": "stream",
     "text": [
      "nivarP\n"
     ]
    }
   ],
   "source": [
    "# String Reverse\n",
    "str_2 = 'Pravin'\n",
    "print(''.join(reversed(str_2))) "
   ]
  },
  {
   "cell_type": "markdown",
   "metadata": {},
   "source": [
    "### Creating a List and use various functions"
   ]
  },
  {
   "cell_type": "code",
   "execution_count": 126,
   "metadata": {},
   "outputs": [
    {
     "name": "stdout",
     "output_type": "stream",
     "text": [
      "[]\n"
     ]
    }
   ],
   "source": [
    "# create list\n",
    "list_1 =[]\n",
    "print(list_1)"
   ]
  },
  {
   "cell_type": "code",
   "execution_count": 164,
   "metadata": {},
   "outputs": [
    {
     "name": "stdout",
     "output_type": "stream",
     "text": [
      "[1, 2, 'Pravin', 3.5, 'Yes']\n",
      "['Good', 'Morning', [1, 2, 'Pravin', 3.5, 'Yes']]\n"
     ]
    }
   ],
   "source": [
    "list_1 = [1,2,'Pravin',3.5,'Yes']\n",
    "list_2 = ['Good','Morning',list_1]\n",
    "print(list_1)\n",
    "print(list_2)"
   ]
  },
  {
   "cell_type": "code",
   "execution_count": 165,
   "metadata": {},
   "outputs": [
    {
     "data": {
      "text/plain": [
       "[1, 2, 'Hi', 'Pravin', 3.5, 'Yes']"
      ]
     },
     "execution_count": 165,
     "metadata": {},
     "output_type": "execute_result"
    }
   ],
   "source": [
    "# Adding element in list on specific Position by using insert\n",
    "list_1.insert(2,'Hi')\n",
    "list_1"
   ]
  },
  {
   "cell_type": "code",
   "execution_count": 239,
   "metadata": {
    "scrolled": true
   },
   "outputs": [
    {
     "name": "stdout",
     "output_type": "stream",
     "text": [
      "16\n"
     ]
    }
   ],
   "source": [
    "# sum list of elements\n",
    "num_list_1 = [5,2,1,8]\n",
    "print(sum(num_list_1))"
   ]
  },
  {
   "cell_type": "code",
   "execution_count": 166,
   "metadata": {
    "scrolled": false
   },
   "outputs": [
    {
     "name": "stdout",
     "output_type": "stream",
     "text": [
      "['Good', 'Morning', [1, 2, 'Hi', 'Pravin', 3.5, 'Yes']]\n",
      "G\n",
      "M\n",
      "2\n",
      "Pravin\n"
     ]
    }
   ],
   "source": [
    "# Access element from Multi-Dimensional List\n",
    "print(list_2)\n",
    "print(list_2[0][0])\n",
    "print(list_2[1][0])\n",
    "print(list_2[2][1])\n",
    "print(list_2[2][3])"
   ]
  },
  {
   "cell_type": "code",
   "execution_count": 167,
   "metadata": {
    "scrolled": true
   },
   "outputs": [
    {
     "name": "stdout",
     "output_type": "stream",
     "text": [
      "['Hi', 'Pravin']\n",
      "['Hi', 'Pravin', 3.5, 'Yes']\n"
     ]
    }
   ],
   "source": [
    "# Access elemest from list by range or slice function\n",
    "print(list_1[2:4])\n",
    "print(list_1[2:])"
   ]
  },
  {
   "cell_type": "code",
   "execution_count": null,
   "metadata": {},
   "outputs": [],
   "source": [
    "# Update list "
   ]
  },
  {
   "cell_type": "code",
   "execution_count": 168,
   "metadata": {
    "scrolled": true
   },
   "outputs": [
    {
     "name": "stdout",
     "output_type": "stream",
     "text": [
      "[1, 'Hi', 'Pravin', 3.5, 'Yes']\n"
     ]
    }
   ],
   "source": [
    "# Removing elements from list specific Position by using remove\n",
    "list_1.remove(2)\n",
    "print(list_1)"
   ]
  },
  {
   "cell_type": "code",
   "execution_count": 169,
   "metadata": {
    "scrolled": true
   },
   "outputs": [
    {
     "name": "stdout",
     "output_type": "stream",
     "text": [
      "[1, 'Hi', 'Pravin', 3.5]\n"
     ]
    }
   ],
   "source": [
    "# Removing last elements from list by using pop\n",
    "list_1.pop()\n",
    "print(list_1)"
   ]
  },
  {
   "cell_type": "code",
   "execution_count": 177,
   "metadata": {},
   "outputs": [
    {
     "name": "stdout",
     "output_type": "stream",
     "text": [
      "[4, 5, 9, 10, 15, 25]\n",
      "[25, 15, 10, 9, 5, 4]\n"
     ]
    }
   ],
   "source": [
    "# Sort elements from the list\n",
    "list_3 = [10,5,25,9,4,15]\n",
    "list_3.sort()\n",
    "print(list_3)\n",
    "list_3.sort(reverse=True)\n",
    "print(list_3)"
   ]
  },
  {
   "cell_type": "code",
   "execution_count": 181,
   "metadata": {},
   "outputs": [
    {
     "name": "stdout",
     "output_type": "stream",
     "text": [
      "['Apple', 'Banana', 'Cherry', 'Orange', 'Papaya']\n",
      "['Banana', 'Cherry', 'Orange', 'Papaya', 'Apple']\n"
     ]
    }
   ],
   "source": [
    "list_4 = ['Apple','Orange','Papaya','Cherry','Banana']\n",
    "list_4.sort()\n",
    "print(list_4)\n",
    "list_4.sort(key=len,reverse=True)\n",
    "print(list_4)"
   ]
  },
  {
   "cell_type": "code",
   "execution_count": 182,
   "metadata": {},
   "outputs": [
    {
     "name": "stdout",
     "output_type": "stream",
     "text": [
      "[4, 5, 9, 10, 15, 25]\n"
     ]
    }
   ],
   "source": [
    "# Reverses the elements of list by using reverse\n",
    "list_3.reverse()\n",
    "print(list_3)"
   ]
  },
  {
   "cell_type": "code",
   "execution_count": 188,
   "metadata": {},
   "outputs": [
    {
     "name": "stdout",
     "output_type": "stream",
     "text": [
      "25\n",
      "4\n",
      "Papaya\n",
      "Apple\n"
     ]
    }
   ],
   "source": [
    "# use max,min with list\n",
    "print(max(list_3))\n",
    "print(min(list_3))\n",
    "print(max(list_4))\n",
    "print(min(list_4))"
   ]
  },
  {
   "cell_type": "code",
   "execution_count": 195,
   "metadata": {},
   "outputs": [
    {
     "name": "stdout",
     "output_type": "stream",
     "text": [
      "['Banana', 'Cherry', 'Orange', 'Papaya', 'Apple']\n",
      "[]\n"
     ]
    }
   ],
   "source": [
    "# Remove all elements from the list by using remove\n",
    "list_5 = list_4\n",
    "print(list_5)\n",
    "list_5.clear()\n",
    "print(list_5)"
   ]
  },
  {
   "cell_type": "markdown",
   "metadata": {},
   "source": [
    "### Create a Tuple and use various functions"
   ]
  },
  {
   "cell_type": "code",
   "execution_count": 214,
   "metadata": {},
   "outputs": [
    {
     "name": "stdout",
     "output_type": "stream",
     "text": [
      "<class 'str'>\n",
      "<class 'tuple'>\n"
     ]
    }
   ],
   "source": [
    "tuple_0 = ('Good')\n",
    "tuple_1 = ('Good',)\n",
    "print(type(tuple_0))\n",
    "print(type(tuple_1))"
   ]
  },
  {
   "cell_type": "code",
   "execution_count": 215,
   "metadata": {},
   "outputs": [
    {
     "name": "stdout",
     "output_type": "stream",
     "text": [
      "('Papaya', 'Cherry', 'Banana')\n"
     ]
    }
   ],
   "source": [
    "# Access elemest from tuple by range or slice function\n",
    "tuple_2 = ('Apple','Orange','Papaya','Cherry','Banana')\n",
    "print(tuple_2[2:5])"
   ]
  },
  {
   "cell_type": "code",
   "execution_count": 216,
   "metadata": {},
   "outputs": [
    {
     "name": "stdout",
     "output_type": "stream",
     "text": [
      "(('Apple', 'Orange', 'Papaya', 'Cherry', 'Banana'), (1, 'Hi', 5))\n",
      "Orange\n",
      "Hi\n"
     ]
    }
   ],
   "source": [
    "# Access element from Multi-Dimensional List\n",
    "tuple_3 = (1,'Hi',5)\n",
    "tuple_4 = (tuple_2,tuple_3)\n",
    "print(tuple_4)\n",
    "print(tuple_4[0][1])\n",
    "print(tuple_4[1][1])"
   ]
  },
  {
   "cell_type": "code",
   "execution_count": 217,
   "metadata": {},
   "outputs": [
    {
     "name": "stdout",
     "output_type": "stream",
     "text": [
      "('Hi', 'Pravin')\n",
      "('Good', 'morning', 'Pravin')\n"
     ]
    }
   ],
   "source": [
    "# update tuple\n",
    "tup_1 = ('Hi','Pravin')\n",
    "print(tup_1)\n",
    "tup_1 = ('Good','morning','Pravin')\n",
    "print(tup_1)"
   ]
  },
  {
   "cell_type": "code",
   "execution_count": 218,
   "metadata": {},
   "outputs": [
    {
     "name": "stdout",
     "output_type": "stream",
     "text": [
      "(1, 'Hi', 5)\n",
      "(('Apple', 'Orange', 'Papaya', 'Cherry', 'Banana'), (1, 'Hi', 5))\n",
      "(1, 'Hi', 5, ('Apple', 'Orange', 'Papaya', 'Cherry', 'Banana'), (1, 'Hi', 5))\n"
     ]
    }
   ],
   "source": [
    "# Concatenate Tuples\n",
    "tup_5 = tuple_3 + tuple_4\n",
    "print(tuple_3)\n",
    "print(tuple_4)\n",
    "print(tup_5)"
   ]
  },
  {
   "cell_type": "code",
   "execution_count": 219,
   "metadata": {},
   "outputs": [],
   "source": [
    "# Delete tuple\n",
    "del tup_5"
   ]
  },
  {
   "cell_type": "code",
   "execution_count": 221,
   "metadata": {},
   "outputs": [
    {
     "name": "stdout",
     "output_type": "stream",
     "text": [
      "(4, 2, 3, [6, 5])\n",
      "(4, 2, 3, [9, 5])\n"
     ]
    }
   ],
   "source": [
    "# Change tuple value\n",
    "tuple_6 = (4, 2, 3, [6, 5])\n",
    "print(tuple_6)\n",
    "tuple_6[3][0] = 9\n",
    "print(tuple_6)"
   ]
  },
  {
   "cell_type": "code",
   "execution_count": 222,
   "metadata": {},
   "outputs": [
    {
     "name": "stdout",
     "output_type": "stream",
     "text": [
      "<class 'list'>\n",
      "[4, 2, 3, [9, 5]]\n"
     ]
    }
   ],
   "source": [
    "# Convert tuple into list\n",
    "tup_list = list(tuple_6)\n",
    "print(type(tup_list))\n",
    "print(tup_list)"
   ]
  },
  {
   "cell_type": "code",
   "execution_count": 225,
   "metadata": {},
   "outputs": [
    {
     "name": "stdout",
     "output_type": "stream",
     "text": [
      "False\n",
      "True\n",
      "False\n"
     ]
    }
   ],
   "source": [
    "# Compare tuple\n",
    "tup_1 = (1,2,3)\n",
    "tup_2 = (1,2,4)\n",
    " \n",
    "print (tup_1 == tup_2)\n",
    "print (tup_1 < tup_2)\n",
    "print (tup_1 > tup_2)"
   ]
  },
  {
   "cell_type": "markdown",
   "metadata": {},
   "source": [
    "### Create a Dictionary and use various functions"
   ]
  },
  {
   "cell_type": "code",
   "execution_count": 227,
   "metadata": {},
   "outputs": [
    {
     "name": "stdout",
     "output_type": "stream",
     "text": [
      "{}\n"
     ]
    }
   ],
   "source": [
    "# empty dictionary\n",
    "dict_1 = {}\n",
    "print(dict_1)"
   ]
  },
  {
   "cell_type": "code",
   "execution_count": 228,
   "metadata": {
    "scrolled": true
   },
   "outputs": [
    {
     "name": "stdout",
     "output_type": "stream",
     "text": [
      "{1: 'apple', 2: 'banana', 3: 'orange'}\n"
     ]
    }
   ],
   "source": [
    "dict_2 = {1: 'apple', 2: 'banana',3: 'orange'}\n",
    "print(dict_2)"
   ]
  },
  {
   "cell_type": "code",
   "execution_count": 229,
   "metadata": {},
   "outputs": [
    {
     "name": "stdout",
     "output_type": "stream",
     "text": [
      "apple\n"
     ]
    }
   ],
   "source": [
    "# Accessing Elements from Dictionary\n",
    "print(dict_2[1])"
   ]
  },
  {
   "cell_type": "code",
   "execution_count": 231,
   "metadata": {},
   "outputs": [
    {
     "name": "stdout",
     "output_type": "stream",
     "text": [
      "{1: 'apple', 2: 'papaya', 3: 'orange'}\n"
     ]
    }
   ],
   "source": [
    "# Changing and Adding Dictionary elements\n",
    "dict_2[2]='papaya'\n",
    "print(dict_2)"
   ]
  },
  {
   "cell_type": "code",
   "execution_count": 232,
   "metadata": {},
   "outputs": [
    {
     "name": "stdout",
     "output_type": "stream",
     "text": [
      "{1: 'apple', 3: 'orange'}\n"
     ]
    }
   ],
   "source": [
    "# Remove elements from Dictionary\n",
    "dict_2.pop(2)\n",
    "print(dict_2)"
   ]
  },
  {
   "cell_type": "code",
   "execution_count": 233,
   "metadata": {},
   "outputs": [
    {
     "name": "stdout",
     "output_type": "stream",
     "text": [
      "2\n"
     ]
    }
   ],
   "source": [
    "# Dictionary Built-in Functions\n",
    "print(len(dict_2))"
   ]
  },
  {
   "cell_type": "code",
   "execution_count": 234,
   "metadata": {},
   "outputs": [
    {
     "name": "stdout",
     "output_type": "stream",
     "text": [
      "[1, 3]\n"
     ]
    }
   ],
   "source": [
    "print(sorted(dict_2))"
   ]
  },
  {
   "cell_type": "code",
   "execution_count": 235,
   "metadata": {},
   "outputs": [],
   "source": [
    "# delete Dictionary\n",
    "del dict_1"
   ]
  },
  {
   "cell_type": "markdown",
   "metadata": {},
   "source": [
    "### Create a Set and use various functions"
   ]
  },
  {
   "cell_type": "code",
   "execution_count": 242,
   "metadata": {},
   "outputs": [
    {
     "name": "stdout",
     "output_type": "stream",
     "text": [
      "{'apple', 'banana', 'cherry'}\n"
     ]
    }
   ],
   "source": [
    "set_1 = {\"apple\", \"banana\", \"cherry\"}\n",
    "print(set_1)"
   ]
  },
  {
   "cell_type": "code",
   "execution_count": 247,
   "metadata": {
    "scrolled": true
   },
   "outputs": [
    {
     "name": "stdout",
     "output_type": "stream",
     "text": [
      "False\n",
      "True\n"
     ]
    }
   ],
   "source": [
    "# check elements exists in set\n",
    "print(\"orange\" in set_1)\n",
    "print('orange' not in set_1)"
   ]
  },
  {
   "cell_type": "code",
   "execution_count": 245,
   "metadata": {},
   "outputs": [
    {
     "name": "stdout",
     "output_type": "stream",
     "text": [
      "3\n"
     ]
    }
   ],
   "source": [
    "# check length of set\n",
    "print(len(set_1))"
   ]
  },
  {
   "cell_type": "code",
   "execution_count": 246,
   "metadata": {
    "scrolled": true
   },
   "outputs": [
    {
     "name": "stdout",
     "output_type": "stream",
     "text": [
      "<class 'list'>\n",
      "['apple', 'banana', 'cherry']\n"
     ]
    }
   ],
   "source": [
    "# convert set into list\n",
    "set_list = list(set_1)\n",
    "print(type(set_list))\n",
    "print(set_list)"
   ]
  },
  {
   "cell_type": "code",
   "execution_count": null,
   "metadata": {},
   "outputs": [],
   "source": [
    "# delete set\n",
    "del set_list"
   ]
  }
 ],
 "metadata": {
  "kernelspec": {
   "display_name": "Python 3",
   "language": "python",
   "name": "python3"
  },
  "language_info": {
   "codemirror_mode": {
    "name": "ipython",
    "version": 3
   },
   "file_extension": ".py",
   "mimetype": "text/x-python",
   "name": "python",
   "nbconvert_exporter": "python",
   "pygments_lexer": "ipython3",
   "version": "3.8.3"
  }
 },
 "nbformat": 4,
 "nbformat_minor": 4
}
