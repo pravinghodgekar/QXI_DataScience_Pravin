{
 "cells": [
  {
   "cell_type": "code",
   "execution_count": 1,
   "metadata": {},
   "outputs": [],
   "source": [
    "import numpy as np\n",
    "import warnings\n",
    "warnings.filterwarnings('ignore')\n",
    "from IPython.display import Image"
   ]
  },
  {
   "cell_type": "code",
   "execution_count": 89,
   "metadata": {},
   "outputs": [
    {
     "data": {
      "text/plain": [
       "array([[1, 2, 3],\n",
       "       [4, 5, 6],\n",
       "       [7, 8, 9]])"
      ]
     },
     "execution_count": 89,
     "metadata": {},
     "output_type": "execute_result"
    }
   ],
   "source": [
    "# create array and save it as a textfile\n",
    "arr1 = np.array([[1,2,3],[4,5,6],[7,8,9]])\n",
    "arr1"
   ]
  },
  {
   "cell_type": "code",
   "execution_count": 93,
   "metadata": {},
   "outputs": [],
   "source": [
    "np.savetxt(\"text.txt\",arr1,delimiter =',')"
   ]
  },
  {
   "cell_type": "code",
   "execution_count": 94,
   "metadata": {
    "scrolled": true
   },
   "outputs": [
    {
     "name": "stdout",
     "output_type": "stream",
     "text": [
      "1.000000000000000000e+00,2.000000000000000000e+00,3.000000000000000000e+00\n",
      "4.000000000000000000e+00,5.000000000000000000e+00,6.000000000000000000e+00\n",
      "7.000000000000000000e+00,8.000000000000000000e+00,9.000000000000000000e+00\n",
      "\n"
     ]
    }
   ],
   "source": [
    "# open file in read mode\n",
    "f =open(\"text.txt\",'r')\n",
    "print(f.read())"
   ]
  },
  {
   "cell_type": "code",
   "execution_count": 99,
   "metadata": {},
   "outputs": [
    {
     "name": "stdout",
     "output_type": "stream",
     "text": [
      "<class 'list'>\n",
      "<class 'numpy.ndarray'>\n"
     ]
    }
   ],
   "source": [
    "#Convert a list into an array\n",
    "a = [1,2,3,4]\n",
    "print(type(a))\n",
    "b = np.asarray(a)\n",
    "print(type(b))"
   ]
  },
  {
   "cell_type": "code",
   "execution_count": 100,
   "metadata": {},
   "outputs": [
    {
     "name": "stdout",
     "output_type": "stream",
     "text": [
      "[[1 2]\n",
      " [3 4]]\n",
      "[[1. 2.]\n",
      " [3. 4.]]\n"
     ]
    }
   ],
   "source": [
    "# array converted to a float type.\n",
    "x = np.array([[1, 2], [3, 4]])\n",
    "print(x)\n",
    "print(np.asfarray(x))"
   ]
  },
  {
   "cell_type": "code",
   "execution_count": 101,
   "metadata": {},
   "outputs": [
    {
     "name": "stdout",
     "output_type": "stream",
     "text": [
      "[0. 1. 2. 3. 4. 5. 6. 7. 8.]\n",
      "[0. 1. 2.]\n",
      "[3. 4. 5.]\n",
      "[6. 7. 8.]\n"
     ]
    }
   ],
   "source": [
    "# Array to be divided into sub-array\n",
    "x = np.arange(9.0)\n",
    "print(x)\n",
    "y,z,n = np.split(x, 3)\n",
    "print(y)\n",
    "print(z)\n",
    "print(n)"
   ]
  },
  {
   "cell_type": "code",
   "execution_count": 103,
   "metadata": {},
   "outputs": [
    {
     "name": "stdout",
     "output_type": "stream",
     "text": [
      "[[[ 0.  1.  2.  3.]\n",
      "  [ 4.  5.  6.  7.]]\n",
      "\n",
      " [[ 8.  9. 10. 11.]\n",
      "  [12. 13. 14. 15.]]]\n"
     ]
    }
   ],
   "source": [
    "# dsplit\n",
    "x = np.arange(16.0).reshape(2, 2, 4)\n",
    "print(x)"
   ]
  },
  {
   "cell_type": "code",
   "execution_count": 104,
   "metadata": {},
   "outputs": [
    {
     "name": "stdout",
     "output_type": "stream",
     "text": [
      "[array([[[ 0.,  1.],\n",
      "        [ 4.,  5.]],\n",
      "\n",
      "       [[ 8.,  9.],\n",
      "        [12., 13.]]]), array([[[ 2.,  3.],\n",
      "        [ 6.,  7.]],\n",
      "\n",
      "       [[10., 11.],\n",
      "        [14., 15.]]])]\n"
     ]
    }
   ],
   "source": [
    "print(np.dsplit(x, 2))"
   ]
  },
  {
   "cell_type": "code",
   "execution_count": 71,
   "metadata": {
    "scrolled": true
   },
   "outputs": [
    {
     "data": {
      "text/plain": [
       "array([[ 1,  2,  3,  4],\n",
       "       [ 5,  6,  7,  8],\n",
       "       [ 9, 10, 11, 12]])"
      ]
     },
     "execution_count": 71,
     "metadata": {},
     "output_type": "execute_result"
    }
   ],
   "source": [
    "# Return a new array with sub-arrays along an axis deleted\n",
    "arr = np.array([[1,2,3,4], [5,6,7,8], [9,10,11,12]])\n",
    "arr"
   ]
  },
  {
   "cell_type": "code",
   "execution_count": 72,
   "metadata": {},
   "outputs": [
    {
     "data": {
      "text/plain": [
       "array([[ 1,  2,  3,  4],\n",
       "       [ 9, 10, 11, 12]])"
      ]
     },
     "execution_count": 72,
     "metadata": {},
     "output_type": "execute_result"
    }
   ],
   "source": [
    "np.delete(arr, 1,0)"
   ]
  },
  {
   "cell_type": "code",
   "execution_count": 107,
   "metadata": {},
   "outputs": [
    {
     "name": "stdout",
     "output_type": "stream",
     "text": [
      "[[1 1]\n",
      " [2 2]\n",
      " [3 3]]\n"
     ]
    }
   ],
   "source": [
    "# Insert values along the given axis before the given indices\n",
    "a = np.array([[1, 1], [2, 2], [3, 3]])\n",
    "print(a)"
   ]
  },
  {
   "cell_type": "code",
   "execution_count": 109,
   "metadata": {
    "scrolled": true
   },
   "outputs": [
    {
     "data": {
      "text/plain": [
       "array([[1, 5, 1],\n",
       "       [2, 5, 2],\n",
       "       [3, 5, 3]])"
      ]
     },
     "execution_count": 109,
     "metadata": {},
     "output_type": "execute_result"
    }
   ],
   "source": [
    "np.insert(a, 1, 5, axis=1)"
   ]
  },
  {
   "cell_type": "code",
   "execution_count": 88,
   "metadata": {},
   "outputs": [
    {
     "name": "stdout",
     "output_type": "stream",
     "text": [
      "[0 1 2 3 4 5 6 7 8 9]\n",
      "[8 9 0 1 2 3 4 5 6 7]\n"
     ]
    }
   ],
   "source": [
    "# Roll array elements along a given axis.\n",
    "x = np.arange(10)\n",
    "print(x)\n",
    "print(np.roll(x, 2))"
   ]
  },
  {
   "cell_type": "code",
   "execution_count": 87,
   "metadata": {},
   "outputs": [
    {
     "name": "stdout",
     "output_type": "stream",
     "text": [
      "['a1b2' '1b2a' 'b2a1' '2a1b']\n",
      "['A1b2' '1b2a' 'B2a1' '2a1b']\n"
     ]
    }
   ],
   "source": [
    "# Return a copy of a with only the first character of each element capitalized\n",
    "c = np.array(['a1b2','1b2a','b2a1','2a1b'])\n",
    "print(c)\n",
    "print(np.char.capitalize(c))"
   ]
  },
  {
   "cell_type": "code",
   "execution_count": 111,
   "metadata": {},
   "outputs": [
    {
     "name": "stdout",
     "output_type": "stream",
     "text": [
      "['A1B C' '1BCA' 'BCA1']\n",
      "['a1b c' '1bca' 'bca1']\n"
     ]
    }
   ],
   "source": [
    "# Return an array with the elements converted to lowercase.\n",
    "c = np.array(['A1B C', '1BCA', 'BCA1'])\n",
    "print(c)\n",
    "print(np.char.lower(c))"
   ]
  },
  {
   "cell_type": "code",
   "execution_count": 112,
   "metadata": {},
   "outputs": [
    {
     "name": "stdout",
     "output_type": "stream",
     "text": [
      "['A1b c' '1bcA' 'BCa1']\n",
      "['A1B C' '1BCA' 'BCA1']\n"
     ]
    }
   ],
   "source": [
    "# Return an array with the elements converted to uppercase.\n",
    "c = np.array(['A1b c', '1bcA', 'BCa1'])\n",
    "print(c)\n",
    "print(np.char.upper(c))"
   ]
  },
  {
   "cell_type": "code",
   "execution_count": 114,
   "metadata": {},
   "outputs": [
    {
     "name": "stdout",
     "output_type": "stream",
     "text": [
      "['aAaAaA' ' aA ' 'abBABba']\n",
      "['AaAaA' ' aA ' 'bBABba']\n"
     ]
    }
   ],
   "source": [
    "# return a copy with the leading characters removed\n",
    "c = np.array(['aAaAaA', ' aA ', 'abBABba'])\n",
    "print(c)\n",
    "print(np.char.lstrip(c, 'a'))"
   ]
  },
  {
   "cell_type": "code",
   "execution_count": 118,
   "metadata": {},
   "outputs": [
    {
     "name": "stdout",
     "output_type": "stream",
     "text": [
      "['aAaAaA' 'abBABba']\n",
      "['aAaAaA' 'abBABb']\n"
     ]
    }
   ],
   "source": [
    "# return a copy with the trailing characters removed.\n",
    "c = np.array(['aAaAaA', 'abBABba'])\n",
    "print(c)\n",
    "print(np.char.rstrip(c, 'a'))"
   ]
  },
  {
   "cell_type": "code",
   "execution_count": 121,
   "metadata": {},
   "outputs": [
    {
     "name": "stdout",
     "output_type": "stream",
     "text": [
      "[' aAaAaA ' ' aA ' ' abBABba ']\n",
      "['aAaAaA' 'aA' 'abBABba']\n"
     ]
    }
   ],
   "source": [
    "# return a copy with the leading and trailing characters removed.\n",
    "c = np.array([' aAaAaA ', ' aA ', ' abBABba '])\n",
    "print(c)\n",
    "print(np.char.strip(c))"
   ]
  },
  {
   "cell_type": "code",
   "execution_count": 122,
   "metadata": {},
   "outputs": [
    {
     "name": "stdout",
     "output_type": "stream",
     "text": [
      "[4, 3, 5, 7, 6, 8]\n",
      "[4 3 6]\n"
     ]
    }
   ],
   "source": [
    "# Take elements from an array along an axis\n",
    "a = [4, 3, 5, 7, 6, 8]\n",
    "print(a)\n",
    "indices = [0, 1, 4]\n",
    "print(np.take(a, indices))"
   ]
  },
  {
   "cell_type": "code",
   "execution_count": 131,
   "metadata": {},
   "outputs": [
    {
     "name": "stdout",
     "output_type": "stream",
     "text": [
      "[[0 1 2]\n",
      " [3 4 5]]\n"
     ]
    },
    {
     "data": {
      "text/plain": [
       "array([[ 0,  1,  2],\n",
       "       [44, 55, 44]])"
      ]
     },
     "execution_count": 131,
     "metadata": {},
     "output_type": "execute_result"
    }
   ],
   "source": [
    "# Change elements of an array based on conditional and input values.\n",
    "arr = np.arange(6).reshape(2, 3)\n",
    "print(arr)\n",
    "np.place(arr, arr>2, [44, 55])\n",
    "arr"
   ]
  },
  {
   "cell_type": "code",
   "execution_count": 133,
   "metadata": {},
   "outputs": [
    {
     "name": "stdout",
     "output_type": "stream",
     "text": [
      "[[0 1 2]\n",
      " [3 4 5]]\n"
     ]
    },
    {
     "data": {
      "text/plain": [
       "array([[ 0,  1,  2],\n",
       "       [ 9, 16, 25]])"
      ]
     },
     "execution_count": 133,
     "metadata": {},
     "output_type": "execute_result"
    }
   ],
   "source": [
    "# Changes elements of an array based on conditional and input values.\n",
    "x = np.arange(6).reshape(2, 3)\n",
    "print(x)\n",
    "np.putmask(x, x>2, x**2)\n",
    "x"
   ]
  },
  {
   "cell_type": "code",
   "execution_count": 145,
   "metadata": {},
   "outputs": [
    {
     "name": "stdout",
     "output_type": "stream",
     "text": [
      "[[0 1 2]\n",
      " [3 4 5]]\n",
      "0\n",
      "1\n",
      "2\n",
      "3\n",
      "4\n",
      "5\n"
     ]
    }
   ],
   "source": [
    "# Flat iterator object to iterate over arrays.\n",
    "x = np.arange(6).reshape(2, 3)\n",
    "print(x)\n",
    "\n",
    "fl = x.flat\n",
    "for item in fl:\n",
    "    print(item)"
   ]
  },
  {
   "cell_type": "code",
   "execution_count": 151,
   "metadata": {},
   "outputs": [],
   "source": [
    "# DataSource([destpath]) A generic data source file (file, http, ftp, ...).\n",
    "repos = np.DataSource()"
   ]
  },
  {
   "cell_type": "code",
   "execution_count": 152,
   "metadata": {},
   "outputs": [
    {
     "data": {
      "text/plain": [
       "False"
      ]
     },
     "execution_count": 152,
     "metadata": {},
     "output_type": "execute_result"
    }
   ],
   "source": [
    "repos.exists('www.google.com/index.html')"
   ]
  },
  {
   "cell_type": "code",
   "execution_count": 153,
   "metadata": {},
   "outputs": [
    {
     "data": {
      "text/plain": [
       "True"
      ]
     },
     "execution_count": 153,
     "metadata": {},
     "output_type": "execute_result"
    }
   ],
   "source": [
    "repos.exists('http://www.google.com/index.html')"
   ]
  },
  {
   "cell_type": "code",
   "execution_count": null,
   "metadata": {},
   "outputs": [],
   "source": []
  }
 ],
 "metadata": {
  "kernelspec": {
   "display_name": "Python 3",
   "language": "python",
   "name": "python3"
  },
  "language_info": {
   "codemirror_mode": {
    "name": "ipython",
    "version": 3
   },
   "file_extension": ".py",
   "mimetype": "text/x-python",
   "name": "python",
   "nbconvert_exporter": "python",
   "pygments_lexer": "ipython3",
   "version": "3.8.3"
  }
 },
 "nbformat": 4,
 "nbformat_minor": 4
}
